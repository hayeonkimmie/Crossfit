{
 "cells": [
  {
   "cell_type": "code",
   "execution_count": 6,
   "id": "20ebfd65-8238-46e8-b4f4-e6f0dc6824c1",
   "metadata": {},
   "outputs": [
    {
     "data": {
      "text/html": [
       "<div>\n",
       "<style scoped>\n",
       "    .dataframe tbody tr th:only-of-type {\n",
       "        vertical-align: middle;\n",
       "    }\n",
       "\n",
       "    .dataframe tbody tr th {\n",
       "        vertical-align: top;\n",
       "    }\n",
       "\n",
       "    .dataframe thead th {\n",
       "        text-align: right;\n",
       "    }\n",
       "</style>\n",
       "<table border=\"1\" class=\"dataframe\">\n",
       "  <thead>\n",
       "    <tr style=\"text-align: right;\">\n",
       "      <th></th>\n",
       "      <th>TodayDate</th>\n",
       "      <th>ExerCiseDayCount</th>\n",
       "      <th>ExerCiseDay</th>\n",
       "      <th>SojuDay</th>\n",
       "      <th>TotalStageCount</th>\n",
       "      <th>MaxSojuCount</th>\n",
       "      <th>FixSojuCount</th>\n",
       "      <th>RemindSojuCount</th>\n",
       "      <th>PlanSoju</th>\n",
       "    </tr>\n",
       "  </thead>\n",
       "  <tbody>\n",
       "    <tr>\n",
       "      <th>0</th>\n",
       "      <td>2023-06-15</td>\n",
       "      <td>5</td>\n",
       "      <td>월 화 수 목 금</td>\n",
       "      <td>목</td>\n",
       "      <td>1</td>\n",
       "      <td>6</td>\n",
       "      <td>4</td>\n",
       "      <td>2</td>\n",
       "      <td>1차 : 4병</td>\n",
       "    </tr>\n",
       "  </tbody>\n",
       "</table>\n",
       "</div>"
      ],
      "text/plain": [
       "    TodayDate  ExerCiseDayCount ExerCiseDay SojuDay  TotalStageCount  \\\n",
       "0  2023-06-15                 5   월 화 수 목 금       목                1   \n",
       "\n",
       "   MaxSojuCount  FixSojuCount  RemindSojuCount PlanSoju  \n",
       "0             6             4                2  1차 : 4병  "
      ]
     },
     "execution_count": 6,
     "metadata": {},
     "output_type": "execute_result"
    }
   ],
   "source": [
    "import pandas as pd\n",
    "\n",
    "crossfitPlan = pd.read_csv('crossfitPlan.csv')\n",
    "crossfitPlan"
   ]
  }
 ],
 "metadata": {
  "kernelspec": {
   "display_name": "Python 3 (ipykernel)",
   "language": "python",
   "name": "python3"
  },
  "language_info": {
   "codemirror_mode": {
    "name": "ipython",
    "version": 3
   },
   "file_extension": ".py",
   "mimetype": "text/x-python",
   "name": "python",
   "nbconvert_exporter": "python",
   "pygments_lexer": "ipython3",
   "version": "3.8.16"
  }
 },
 "nbformat": 4,
 "nbformat_minor": 5
}
